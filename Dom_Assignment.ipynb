{
 "cells": [
  {
   "cell_type": "code",
   "execution_count": null,
   "metadata": {},
   "outputs": [],
   "source": [
    "#wap find the given num is even or not   \n",
    ":\n",
    "#wap find the biggest number from two num\n",
    "\n",
    "#wap find the smallest num from three num"
   ]
  },
  {
   "cell_type": "code",
   "execution_count": 36,
   "metadata": {},
   "outputs": [
    {
     "name": "stdout",
     "output_type": "stream",
     "text": [
      "Enter a random number55\n",
      "55 is Odd\n"
     ]
    }
   ],
   "source": [
    "#wap find the given num is even or not\n",
    "\n",
    "Num = input(\"Enter a random number\")\n",
    "mod = Num%2\n",
    "if (mod > 0):\n",
    "    print Num, \"is Odd\"\n",
    "else:\n",
    "    print Num, \"is Even\"\n"
   ]
  },
  {
   "cell_type": "code",
   "execution_count": 37,
   "metadata": {},
   "outputs": [
    {
     "name": "stdout",
     "output_type": "stream",
     "text": [
      "Enter first num44\n",
      "Enter second num44\n",
      "both are equal\n"
     ]
    }
   ],
   "source": [
    "#wap find the biggest number from two num\n",
    "\n",
    "A = input(\"Enter first num\")\n",
    "B = input(\"Enter second num\")\n",
    "if (A>B):\n",
    "    print \" A is greater than B\"\n",
    "elif (B>A):\n",
    "    print \"B is greater than A\"\n",
    "else:\n",
    "    print \"both are equal\"\n",
    "    "
   ]
  },
  {
   "cell_type": "code",
   "execution_count": 43,
   "metadata": {},
   "outputs": [
    {
     "name": "stdout",
     "output_type": "stream",
     "text": [
      "Enter first num2\n",
      "Enter second num22\n",
      "Enter third num2\n",
      "2 is the lowest num\n"
     ]
    }
   ],
   "source": [
    "#wap find the smallest num from three num\n",
    "\n",
    "A = input(\"Enter first num\")\n",
    "B = input(\"Enter second num\")\n",
    "C = input(\"Enter third num\")\n",
    "if (A<=B and A<=C):\n",
    "    print A,\"is the lowest num\"\n",
    "elif (B<=A and B<=C):\n",
    "        print B,\"is lowest num\"\n",
    "else:\n",
    "    print C , \"is the lowest num\"\n",
    "    "
   ]
  }
 ],
 "metadata": {
  "kernelspec": {
   "display_name": "Python 2",
   "language": "python",
   "name": "python2"
  },
  "language_info": {
   "codemirror_mode": {
    "name": "ipython",
    "version": 2
   },
   "file_extension": ".py",
   "mimetype": "text/x-python",
   "name": "python",
   "nbconvert_exporter": "python",
   "pygments_lexer": "ipython2",
   "version": "2.7.16"
  }
 },
 "nbformat": 4,
 "nbformat_minor": 2
}
